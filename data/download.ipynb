{
 "cells": [
  {
   "cell_type": "markdown",
   "id": "c6876859",
   "metadata": {},
   "source": [
    "# Descargar datos desde un sitio web"
   ]
  },
  {
   "cell_type": "markdown",
   "id": "07d1c03d",
   "metadata": {},
   "source": [
    "## Opción A — Yahoo Finance (yfinance)\n",
    "\n",
    "Pros: muy simple, sin límites estrictos; \n",
    "Contras: fuente agregada (no de un exchange específico)."
   ]
  },
  {
   "cell_type": "code",
   "execution_count": 2,
   "id": "b7523616",
   "metadata": {},
   "outputs": [
    {
     "name": "stderr",
     "output_type": "stream",
     "text": [
      "[*********************100%***********************]  1 of 1 completed"
     ]
    },
    {
     "name": "stdout",
     "output_type": "stream",
     "text": [
      "Price           adj_close          close           high            low  \\\n",
      "Ticker            BTC-USD        BTC-USD        BTC-USD        BTC-USD   \n",
      "date                                                                     \n",
      "2025-09-03  111723.210938  111723.210938  112600.226562  110582.960938   \n",
      "2025-09-04  110723.601562  110723.601562  112208.328125  109347.226562   \n",
      "2025-09-05  110650.984375  110650.984375  113357.492188  110233.398438   \n",
      "2025-09-06  110224.695312  110224.695312  111275.015625  110024.085938   \n",
      "2025-09-07  111279.406250  111279.406250  111373.484375  110214.835938   \n",
      "\n",
      "Price                open       volume  \n",
      "Ticker            BTC-USD      BTC-USD  \n",
      "date                                    \n",
      "2025-09-03  111190.695312  61119643565  \n",
      "2025-09-04  111718.148438  60131132901  \n",
      "2025-09-05  110723.015625  60241647677  \n",
      "2025-09-06  110650.570312  21500719036  \n",
      "2025-09-07  110214.835938  24640706560  \n"
     ]
    },
    {
     "name": "stderr",
     "output_type": "stream",
     "text": [
      "\n"
     ]
    }
   ],
   "source": [
    "# pip install yfinance pandas\n",
    "import yfinance as yf\n",
    "import pandas as pd\n",
    "\n",
    "# Rango 2025 completo hasta hoy\n",
    "start = \"2025-01-01\"\n",
    "end   = None  # None = hasta la fecha actual\n",
    "\n",
    "# BTC frente al USD en Yahoo Finance\n",
    "ticker = \"BTC-USD\"\n",
    "\n",
    "# Descarga de velas diarias\n",
    "btc_yahoo = yf.download(ticker, start=start, end=end, interval=\"1d\", auto_adjust=False)\n",
    "\n",
    "# Limpieza/renombrado opcional\n",
    "btc_yahoo = btc_yahoo.rename(columns={\n",
    "    \"Open\":\"open\",\"High\":\"high\",\"Low\":\"low\",\"Close\":\"close\",\"Adj Close\":\"adj_close\",\"Volume\":\"volume\"\n",
    "})\n",
    "btc_yahoo.index.name = \"date\"\n",
    "\n",
    "print(btc_yahoo.tail())"
   ]
  },
  {
   "cell_type": "markdown",
   "id": "4c923562",
   "metadata": {},
   "source": [
    "## Opción B — Binance (REST público, sin API key)\n",
    "\n",
    "Pros: datos de exchange; Contras: conviene respetar rate limits.\n",
    "Descarga klines diarios (interval=1d) de BTCUSDT desde 2025-01-01 hasta hoy."
   ]
  },
  {
   "cell_type": "code",
   "execution_count": 3,
   "id": "93ccf6a1",
   "metadata": {},
   "outputs": [],
   "source": [
    "import requests, time, math\n",
    "import pandas as pd\n",
    "from datetime import datetime, timezone\n",
    "from dateutil import tz\n"
   ]
  },
  {
   "cell_type": "code",
   "execution_count": 4,
   "id": "46fd1b98",
   "metadata": {},
   "outputs": [
    {
     "name": "stdout",
     "output_type": "stream",
     "text": [
      "                                       open       high        low      close  \\\n",
      "date                                                                           \n",
      "2025-09-03 23:59:59.999000+00:00  111240.01  112575.27  110528.71  111705.71   \n",
      "2025-09-04 23:59:59.999000+00:00  111705.72  112180.00  109329.12  110730.87   \n",
      "2025-09-05 23:59:59.999000+00:00  110730.87  113384.62  110206.96  110659.99   \n",
      "2025-09-06 23:59:59.999000+00:00  110660.00  111307.70  109977.00  110187.97   \n",
      "2025-09-07 23:59:59.999000+00:00  110187.98  111412.00  110180.00  111218.44   \n",
      "\n",
      "                                       volume  \n",
      "date                                           \n",
      "2025-09-03 23:59:59.999000+00:00  11773.72084  \n",
      "2025-09-04 23:59:59.999000+00:00  12203.13536  \n",
      "2025-09-05 23:59:59.999000+00:00  21587.40888  \n",
      "2025-09-06 23:59:59.999000+00:00   5000.29897  \n",
      "2025-09-07 23:59:59.999000+00:00   5032.36277  \n"
     ]
    }
   ],
   "source": [
    "# pip install requests pandas python-dateutil\n",
    "import requests, time, math\n",
    "import pandas as pd\n",
    "from datetime import datetime, timezone\n",
    "from dateutil import tz\n",
    "\n",
    "BASE = \"https://api.binance.com\"\n",
    "SYMBOL = \"BTCUSDT\"\n",
    "INTERVAL = \"1d\"\n",
    "LIMIT = 1000  # máximo por llamada\n",
    "\n",
    "def to_ms(dt: datetime) -> int:\n",
    "    return int(dt.timestamp() * 1000)\n",
    "\n",
    "def fetch_klines(symbol, interval, start_ms, end_ms=None, limit=1000):\n",
    "    \"\"\"\n",
    "    Descarga klines en páginas hasta cubrir [start_ms, end_ms].\n",
    "    Si end_ms es None, usa 'ahora'.\n",
    "    \"\"\"\n",
    "    if end_ms is None:\n",
    "        end_ms = to_ms(datetime.now(timezone.utc))\n",
    "\n",
    "    out = []\n",
    "    cur = start_ms\n",
    "    while cur < end_ms:\n",
    "        params = {\n",
    "            \"symbol\": symbol,\n",
    "            \"interval\": interval,\n",
    "            \"startTime\": cur,\n",
    "            \"endTime\": end_ms,\n",
    "            \"limit\": limit\n",
    "        }\n",
    "        r = requests.get(f\"{BASE}/api/v3/klines\", params=params, timeout=30)\n",
    "        r.raise_for_status()\n",
    "        chunk = r.json()\n",
    "        if not chunk:\n",
    "            break\n",
    "        out.extend(chunk)\n",
    "        # Avanza al siguiente después del último closeTime recibido\n",
    "        last_close_ms = chunk[-1][6]\n",
    "        # Evita loops infinitos\n",
    "        next_ms = last_close_ms + 1\n",
    "        if next_ms <= cur:\n",
    "            break\n",
    "        cur = next_ms\n",
    "        # Respeta rate limits básicos\n",
    "        time.sleep(0.2)\n",
    "    return out\n",
    "\n",
    "# Fechas: desde 2025-01-01 00:00:00 UTC hasta ahora\n",
    "start_dt_utc = datetime(2025, 1, 1, 0, 0, 0, tzinfo=timezone.utc)\n",
    "start_ms = to_ms(start_dt_utc)\n",
    "end_ms = None\n",
    "\n",
    "raw = fetch_klines(SYMBOL, INTERVAL, start_ms=start_ms, end_ms=end_ms, limit=LIMIT)\n",
    "\n",
    "# Construye DataFrame\n",
    "cols = [\n",
    "    \"open_time\",\"open\",\"high\",\"low\",\"close\",\"volume\",\n",
    "    \"close_time\",\"quote_asset_volume\",\"number_of_trades\",\n",
    "    \"taker_buy_base_volume\",\"taker_buy_quote_volume\",\"ignore\"\n",
    "]\n",
    "df = pd.DataFrame(raw, columns=cols)\n",
    "\n",
    "# Tipos y tiempos\n",
    "num_cols = [\"open\",\"high\",\"low\",\"close\",\"volume\",\"quote_asset_volume\",\"taker_buy_base_volume\",\"taker_buy_quote_volume\"]\n",
    "df[num_cols] = df[num_cols].astype(float)\n",
    "\n",
    "df[\"open_time\"]  = pd.to_datetime(df[\"open_time\"], unit=\"ms\", utc=True)\n",
    "df[\"close_time\"] = pd.to_datetime(df[\"close_time\"], unit=\"ms\", utc=True)\n",
    "\n",
    "# Opcional: indexar por fecha de cierre (día de la vela)\n",
    "df = df.set_index(\"close_time\").sort_index()\n",
    "df.index.name = \"date\"\n",
    "\n",
    "# Selección de columnas OHLCV “clásicas”\n",
    "df_ohlcv = df[[\"open\",\"high\",\"low\",\"close\",\"volume\"]]\n",
    "\n",
    "print(df_ohlcv.tail())"
   ]
  },
  {
   "cell_type": "markdown",
   "id": "bcf339f7",
   "metadata": {},
   "source": [
    "## Pipeline robusto REST+WS a Parquet (gratuito)"
   ]
  },
  {
   "cell_type": "code",
   "execution_count": null,
   "id": "89a93b49",
   "metadata": {},
   "outputs": [
    {
     "ename": "ModuleNotFoundError",
     "evalue": "No module named 'tenacity'",
     "output_type": "error",
     "traceback": [
      "\u001b[0;31m---------------------------------------------------------------------------\u001b[0m",
      "\u001b[0;31mModuleNotFoundError\u001b[0m                       Traceback (most recent call last)",
      "Cell \u001b[0;32mIn[1], line 3\u001b[0m\n\u001b[1;32m      1\u001b[0m \u001b[38;5;28;01mimport\u001b[39;00m\u001b[38;5;250m \u001b[39m\u001b[38;5;21;01masyncio\u001b[39;00m\u001b[38;5;241m,\u001b[39m\u001b[38;5;250m \u001b[39m\u001b[38;5;21;01mjson\u001b[39;00m\u001b[38;5;241m,\u001b[39m\u001b[38;5;250m \u001b[39m\u001b[38;5;21;01mtime\u001b[39;00m\u001b[38;5;241m,\u001b[39m\u001b[38;5;250m \u001b[39m\u001b[38;5;21;01mos\u001b[39;00m\u001b[38;5;241m,\u001b[39m\u001b[38;5;250m \u001b[39m\u001b[38;5;21;01mrequests\u001b[39;00m\u001b[38;5;241m,\u001b[39m\u001b[38;5;250m \u001b[39m\u001b[38;5;21;01mpandas\u001b[39;00m\u001b[38;5;250m \u001b[39m\u001b[38;5;28;01mas\u001b[39;00m\u001b[38;5;250m \u001b[39m\u001b[38;5;21;01mpd\u001b[39;00m\n\u001b[1;32m      2\u001b[0m \u001b[38;5;28;01mfrom\u001b[39;00m\u001b[38;5;250m \u001b[39m\u001b[38;5;21;01mdatetime\u001b[39;00m\u001b[38;5;250m \u001b[39m\u001b[38;5;28;01mimport\u001b[39;00m datetime, timezone\n\u001b[0;32m----> 3\u001b[0m \u001b[38;5;28;01mfrom\u001b[39;00m\u001b[38;5;250m \u001b[39m\u001b[38;5;21;01mtenacity\u001b[39;00m\u001b[38;5;250m \u001b[39m\u001b[38;5;28;01mimport\u001b[39;00m retry, stop_after_attempt, wait_exponential\n",
      "\u001b[0;31mModuleNotFoundError\u001b[0m: No module named 'tenacity'"
     ]
    }
   ],
   "source": []
  }
 ],
 "metadata": {
  "kernelspec": {
   "display_name": "Python 3",
   "language": "python",
   "name": "python3"
  },
  "language_info": {
   "codemirror_mode": {
    "name": "ipython",
    "version": 3
   },
   "file_extension": ".py",
   "mimetype": "text/x-python",
   "name": "python",
   "nbconvert_exporter": "python",
   "pygments_lexer": "ipython3",
   "version": "3.10.18"
  }
 },
 "nbformat": 4,
 "nbformat_minor": 5
}
